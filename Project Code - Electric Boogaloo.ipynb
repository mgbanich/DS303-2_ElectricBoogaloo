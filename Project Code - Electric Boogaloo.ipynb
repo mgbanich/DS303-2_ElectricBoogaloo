{
 "cells": [
  {
   "cell_type": "raw",
   "id": "33dd6c4c",
   "metadata": {},
   "source": [
    "---\n",
    "title: \"Project Code\"\n",
    "subtitle: Team name\n",
    "author: Author 1, Author 2, Author 3, and Author 4 \n",
    "date: 02/27/2023\n",
    "number-sections: true\n",
    "abstract: _This file contains the code for the project on <>, as part of the STAT303-2 course in Winter 2023_.\n",
    "format: \n",
    "  html:\n",
    "    toc: true\n",
    "    toc-title: Contents\n",
    "    self-contained: true\n",
    "    font-size: 100%\n",
    "    toc-depth: 4\n",
    "    mainfont: serif\n",
    "jupyter: python3\n",
    "---"
   ]
  },
  {
   "cell_type": "code",
   "execution_count": 2,
   "id": "941d91a6-42b8-4ae9-9b99-dfd7ef7333bc",
   "metadata": {},
   "outputs": [],
   "source": [
    "import pandas as pd\n",
    "import numpy as np\n",
    "import seaborn as sns\n",
    "import matplotlib.pyplot as plt\n",
    "import statsmodels.formula.api as smf\n",
    "import statsmodels.api as sm"
   ]
  },
  {
   "cell_type": "markdown",
   "id": "fe7ea9bb",
   "metadata": {},
   "source": [
    "## Data quality check / cleaning / preparation \n",
    "\n",
    "Put code with comments. The comments should explain the code such that it can be easily understood. You may put text *(in a markdown cell)* before a large chunk of code to explain the overall purpose of the code, if it is not intuitive. **Put the name of the person / persons who contributed to each code chunk / set of code chunks.** An example is given below."
   ]
  },
  {
   "cell_type": "markdown",
   "id": "db149d8b",
   "metadata": {},
   "source": [
    "### Data quality check and cleaning\n",
    "*By Jackson Baker*"
   ]
  },
  {
   "cell_type": "code",
   "execution_count": 4,
   "id": "a7b589e9-680e-4a14-929c-dbfec3600b16",
   "metadata": {},
   "outputs": [],
   "source": [
    "movies = pd.read_csv('movies.csv')"
   ]
  },
  {
   "cell_type": "code",
   "execution_count": 7,
   "id": "2c00bd90-a474-4df6-a4a5-47d76ef7a672",
   "metadata": {},
   "outputs": [],
   "source": [
    "# Changing some binary string columns to binary numeric\n",
    "movies.loc[movies.Oscar_Best_Picture_won == 'Yes', 'Oscar_Best_Picture_won'] = 1\n",
    "movies.loc[movies.Oscar_Best_Picture_won == 'No', 'Oscar_Best_Picture_won'] = 0\n",
    "movies.loc[movies.Oscar_Best_Picture_nominated == 'Yes', 'Oscar_Best_Picture_nominated'] = 1\n",
    "movies.loc[movies.Oscar_Best_Picture_nominated == 'No', 'Oscar_Best_Picture_nominated'] = 0\n",
    "\n",
    "movies.loc[movies.Oscar_Best_Director_won == 'Yes', 'Oscar_Best_Director_won'] = 1\n",
    "movies.loc[movies.Oscar_Best_Director_won == 'No', 'Oscar_Best_Director_won'] = 0\n",
    "movies.loc[movies.Oscar_Best_Director_nominated == 'Yes', 'Oscar_Best_Director_nominated'] = 1\n",
    "movies.loc[movies.Oscar_Best_Director_nominated == 'No', 'Oscar_Best_Director_nominated'] = 0\n",
    "\n",
    "movies.loc[movies.Oscar_Best_Actor_won == 'Yes', 'Oscar_Best_Actor_won'] = 1\n",
    "movies.loc[movies.Oscar_Best_Actor_won == 'No', 'Oscar_Best_Actor_won'] = 0\n",
    "movies.loc[movies.Oscar_Best_Actor_nominated == 'Yes', 'Oscar_Best_Actor_nominated'] = 1\n",
    "movies.loc[movies.Oscar_Best_Actor_nominated == 'No', 'Oscar_Best_Actor_nominated'] = 0\n",
    "\n",
    "movies.loc[movies.Oscar_Best_Actress_won == 'Yes', 'Oscar_Best_Actress_won'] = 1\n",
    "movies.loc[movies.Oscar_Best_Actress_won == 'No', 'Oscar_Best_Actress_won'] = 0\n",
    "movies.loc[movies.Oscar_Best_Actress_nominated == 'Yes', 'Oscar_Best_Actress_nominated'] = 1\n",
    "movies.loc[movies.Oscar_Best_Actress_nominated == 'No', 'Oscar_Best_Actress_nominated'] = 0"
   ]
  },
  {
   "cell_type": "code",
   "execution_count": 8,
   "id": "864b334a-c8d8-41a3-b1be-bb7f60d9d2b8",
   "metadata": {},
   "outputs": [],
   "source": [
    "# Making a bunch of non-numeric variables into numeric\n",
    "\n",
    "movies['metascore'] = pd.to_numeric(movies['metascore'])\n",
    "movies['Oscar_Best_Picture_won'] = pd.to_numeric(movies['Oscar_Best_Picture_won'])\n",
    "movies['Oscar_Best_Director_nominated'] = pd.to_numeric(movies['Oscar_Best_Director_nominated'])\n",
    "movies['Oscar_Best_Actor_nominated'] = pd.to_numeric(movies['Oscar_Best_Actor_nominated'])\n",
    "movies['Oscar_Best_Actress_nominated'] = pd.to_numeric(movies['Oscar_Best_Actress_nominated'])\n",
    "movies['Golden_Globes_nominated'] = pd.to_numeric(movies['Golden_Globes_nominated'])\n",
    "movies['BAFTA_nominated'] = pd.to_numeric(movies['BAFTA_nominated'])\n",
    "movies['month'] = pd.to_numeric(movies['release_date.month'])\n",
    "movies['votes'] = pd.to_numeric(movies['votes'])\n",
    "movies['gross'] = pd.to_numeric(movies['gross'])"
   ]
  },
  {
   "cell_type": "code",
   "execution_count": 10,
   "id": "de5433be-4c9e-4dc1-9cbc-76f74b7cfd46",
   "metadata": {},
   "outputs": [],
   "source": [
    "# Getting the columns that were most relevant and important to our analysis\n",
    "movies_new = movies[['year', 'movie', 'certificate', 'genre', 'duration', 'rate', 'metascore', 'votes', 'gross', \n",
    "                   'release_date', 'user_reviews', 'critic_reviews', 'popularity', 'awards_wins', 'awards_nominations',\n",
    "                   'Oscar_nominated', 'month']]\n",
    "\n",
    "# Removing entries in the certificate column that didn't make a ton of sense\n",
    "new_movies_new = movies_new.loc[movies['certificate'] != 'Not Rated']\n",
    "new_movies_new = new_movies_new.loc[movies['certificate'] != 'TV-MA']"
   ]
  },
  {
   "cell_type": "markdown",
   "id": "d1561829",
   "metadata": {},
   "source": [
    "### Data cleaning\n",
    "*By Xena Valenzuela*\n",
    "\n",
    "From the data quality check we realized that:\n",
    "\n",
    "1. Some of the columns that should have contained only numeric values, specifically <>, <>, and <> have special characters such as \\*, #, %. We'll remove these characters, and convert the datatype of these columns to numeric.\n",
    "\n",
    "2. Some of the columns have more than 60% missing values, and it is very difficult to impute their values, as the values seem to be missing at random with negligible association with other predictors. We'll remove such columns from the data.\n",
    "\n",
    "3. The column `number_of_bedrooms` has some unreasonably high values such as 15. As our data consist of single-family homes in Evanston, we suspect that any value greater than 5 may be incorrect. We'll replace all values that are greater than 5 with an estimate obtained using the $K$-nearest neighbor approach.\n",
    "\n",
    "4. The columns `house_price` has some unreasonably high values. We'll tag all values greater than 1 billion dollars as \"potentially incorrect observation\", to see if they distort our prediction / inference later on.\n",
    "\n",
    "The code below implements the above cleaning."
   ]
  },
  {
   "cell_type": "markdown",
   "id": "9b91a14e",
   "metadata": {},
   "source": [
    "### Data preparation\n",
    "*By Sankaranarayanan Balasubramanian and Chun-Li*\n",
    "\n",
    "The following data preparation steps helped us to prepare our data for implementing various modeling / validation techniques:\n",
    "\n",
    "1. Since we need to predict house price, we derived some new predictors *(from existing predictors)* that intuitively seem to be helpuful to predict house price. \n",
    "\n",
    "2. We have shuffled the dataset to prepare it for K-fold cross validation.\n",
    "\n",
    "3. We have created a standardized version of the dataset, as we will use it to develop Lasso / Ridge regression models."
   ]
  },
  {
   "cell_type": "markdown",
   "id": "fbb11c9b",
   "metadata": {},
   "source": [
    "## Exploratory data analysis"
   ]
  },
  {
   "cell_type": "markdown",
   "id": "e4bd74a9",
   "metadata": {},
   "source": [
    "Put code with comments. The comments should explain the code such that it can be easily understood. You may put text *(in a markdown cell)* before a large chunk of code to explain the overall purpose of the code, if it is not intuitive. **Put the name of the person / persons who contributed to each code chunk / set of code chunks.**"
   ]
  },
  {
   "cell_type": "code",
   "execution_count": 5,
   "id": "c5d984a9-5db6-46d8-9839-0f0aa728f473",
   "metadata": {},
   "outputs": [
    {
     "ename": "NameError",
     "evalue": "name 'movies_new' is not defined",
     "output_type": "error",
     "traceback": [
      "\u001b[0;31m---------------------------------------------------------------------------\u001b[0m",
      "\u001b[0;31mNameError\u001b[0m                                 Traceback (most recent call last)",
      "Input \u001b[0;32mIn [5]\u001b[0m, in \u001b[0;36m<cell line: 2>\u001b[0;34m()\u001b[0m\n\u001b[1;32m      1\u001b[0m \u001b[38;5;66;03m# Pairplot by Jackson\u001b[39;00m\n\u001b[0;32m----> 2\u001b[0m sns\u001b[38;5;241m.\u001b[39mpairplot(\u001b[43mmovies_new\u001b[49m)\n",
      "\u001b[0;31mNameError\u001b[0m: name 'movies_new' is not defined"
     ]
    }
   ],
   "source": [
    "# Pairplot by Jackson\n",
    "sns.pairplot(movies_new)"
   ]
  },
  {
   "cell_type": "markdown",
   "id": "acab331a",
   "metadata": {},
   "source": [
    "## Developing the model"
   ]
  },
  {
   "cell_type": "markdown",
   "id": "ae5ec4c9",
   "metadata": {},
   "source": [
    "Put code with comments. The comments should explain the code such that it can be easily understood. You may put text *(in a markdown cell)* before a large chunk of code to explain the overall purpose of the code, if it is not intuitive. **Put the name of the person / persons who contributed to each code chunk / set of code chunks.**"
   ]
  },
  {
   "cell_type": "markdown",
   "id": "6444e611",
   "metadata": {},
   "source": [
    "### Code fitting the final model"
   ]
  },
  {
   "cell_type": "markdown",
   "id": "f6cae72f",
   "metadata": {},
   "source": [
    "Put the code(s) that fit the final model(s) in separate cell(s), i.e., the code with the `.ols()` or `.logit()` functions."
   ]
  },
  {
   "cell_type": "markdown",
   "id": "62a185cb",
   "metadata": {},
   "source": [
    "## Conclusions and Recommendations to stakeholder(s)\n",
    "\n",
    "You may or may not have code to put in this section. Delete this section if it is irrelevant."
   ]
  }
 ],
 "metadata": {
  "kernelspec": {
   "display_name": "Python 3 (ipykernel)",
   "language": "python",
   "name": "python3"
  },
  "language_info": {
   "codemirror_mode": {
    "name": "ipython",
    "version": 3
   },
   "file_extension": ".py",
   "mimetype": "text/x-python",
   "name": "python",
   "nbconvert_exporter": "python",
   "pygments_lexer": "ipython3",
   "version": "3.9.12"
  }
 },
 "nbformat": 4,
 "nbformat_minor": 5
}
